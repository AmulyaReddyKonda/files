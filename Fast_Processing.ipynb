{
  "nbformat": 4,
  "nbformat_minor": 0,
  "metadata": {
    "colab": {
      "name": "Fast Processing.ipynb",
      "provenance": [],
      "collapsed_sections": []
    },
    "kernelspec": {
      "name": "python3",
      "display_name": "Python 3"
    }
  },
  "cells": [
    {
      "cell_type": "code",
      "metadata": {
        "id": "ahGHTqkh3RMH"
      },
      "source": [
        "file_names = ['https://raw.githubusercontent.com/AmulyaReddyKonda/files/main/file1.csv',\r\n",
        "              'https://raw.githubusercontent.com/AmulyaReddyKonda/files/main/file1.csv',\r\n",
        "              'https://raw.githubusercontent.com/AmulyaReddyKonda/files/main/file1.csv',\r\n",
        "              'https://raw.githubusercontent.com/AmulyaReddyKonda/files/main/file1.csv',\r\n",
        "              'https://raw.githubusercontent.com/AmulyaReddyKonda/files/main/file1.csv',\r\n",
        "              'https://raw.githubusercontent.com/AmulyaReddyKonda/files/main/file1.csv',\r\n",
        "              'https://raw.githubusercontent.com/AmulyaReddyKonda/files/main/file1.csv',\r\n",
        "              'https://raw.githubusercontent.com/AmulyaReddyKonda/files/main/file2.csv',\r\n",
        "              'https://raw.githubusercontent.com/AmulyaReddyKonda/files/main/file2.csv',\r\n",
        "              'https://raw.githubusercontent.com/AmulyaReddyKonda/files/main/file2.csv',\r\n",
        "              'https://raw.githubusercontent.com/AmulyaReddyKonda/files/main/file2.csv']"
      ],
      "execution_count": 14,
      "outputs": []
    },
    {
      "cell_type": "code",
      "metadata": {
        "id": "4rNsu2Fw5nIo"
      },
      "source": [
        "import threading\r\n",
        "import pandas as pd\r\n"
      ],
      "execution_count": 15,
      "outputs": []
    },
    {
      "cell_type": "code",
      "metadata": {
        "colab": {
          "base_uri": "https://localhost:8080/"
        },
        "id": "VL61FDs87dVB",
        "outputId": "b406c2a3-2cf3-4363-86dc-e1e34ebadfce"
      },
      "source": [
        "def process_file(file): \r\n",
        "  print(\"Started {}\".format(threading.current_thread().name))\r\n",
        "  print(pd.read_csv(file))\r\n",
        "\r\n",
        "if __name__ == \"__main__\": \r\n",
        "  for i,file in enumerate(file_names):\r\n",
        "    t = threading.Thread(target=process_file, args=(file,), name=\"Thread\"+str(i)) \r\n",
        "    t.start()\r\n"
      ],
      "execution_count": 16,
      "outputs": [
        {
          "output_type": "stream",
          "text": [
            "Started Thread0\n",
            "Started Thread1\n",
            "Started Thread2\n",
            "Started Thread3\n",
            "Started Thread4\n",
            "Started Thread5Started Thread6\n",
            "\n",
            "Started Thread7\n",
            "Started Thread8\n",
            "Started Thread9\n",
            "Started Thread10\n",
            "     c1  c2   c3  c4  c5\n",
            "0   1.0   2  3.0   4   5\n",
            "1   NaN   7  7.0   9  10\n",
            "2  11.0  12  NaN  14  15     c1  c2   c3  c4  c5\n",
            "0   1.0   2  3.0   4   5\n",
            "1   NaN   7  7.0   9  10\n",
            "2  11.0  12  NaN  14  15     c1  c2   c3  c4  c5\n",
            "0   1.0   2  3.0   4   5\n",
            "1   NaN   7  7.0   9  10\n",
            "2  11.0  12  NaN  14  15     c1  c2   c3  c4  c5\n",
            "0   1.0   2  3.0   4   5\n",
            "1   NaN   7  7.0   9  10\n",
            "2  11.0  12  NaN  14  15\n",
            "\n",
            "\n",
            "\n",
            "     c1  c2   c3  c4  c5\n",
            "0   1.0   2  3.0   4   5\n",
            "1   NaN   7  7.0   9  10\n",
            "2  11.0  12  NaN  14  15     c1  c2   c3  c4  c5\n",
            "0   1.0   2  3.0   4   5\n",
            "1   NaN   7  7.0   9  10\n",
            "2  11.0  12  NaN  14  15\n",
            "     c1  c2   c3  c4  c5\n",
            "0   1.0   2  3.0   4   5\n",
            "1   NaN   7  7.0   9  10\n",
            "2  11.0  12  NaN  14  15\n",
            "     c1  c2   c3  c4  c5\n",
            "0   1.0   2  3.0   4   5\n",
            "1   NaN   7  7.0   9  10\n",
            "2  11.0  12  NaN  14  15\n",
            "     c1  c2   c3  c4  c5\n",
            "0   1.0   2  3.0   4   5\n",
            "1   NaN   7  7.0   9  10\n",
            "2  11.0  12  NaN  14  15\n",
            "\n",
            "     c1  c2   c3  c4  c5\n",
            "0   1.0   2  3.0   4   5\n",
            "1   NaN   7  7.0   9  10\n",
            "2  11.0  12  NaN  14  15\n",
            "     c1  c2   c3  c4  c5\n",
            "0   1.0   2  3.0   4   5\n",
            "1   NaN   7  7.0   9  10\n",
            "2  11.0  12  NaN  14  15\n"
          ],
          "name": "stdout"
        }
      ]
    }
  ]
}